{
 "cells": [
  {
   "cell_type": "markdown",
   "id": "nervous-walter",
   "metadata": {},
   "source": [
    "# # I PREVIO"
   ]
  },
  {
   "cell_type": "markdown",
   "id": "reported-guidance",
   "metadata": {},
   "source": [
    "# 1.1. Objetivo del juego:\n",
    "    #Sacar una carta cuyo valor sea mayor al valor de la carta que saque el dealer."
   ]
  },
  {
   "cell_type": "markdown",
   "id": "parallel-federal",
   "metadata": {},
   "source": [
    "# 1.2 Reglas del juego:\n",
    "    # - El jugador que tenga la carta más alta gana. La carta más alta es el A, luego el K,Q,J,10,9,8,7,6,5,4,3,2. El valor es el mismo para los diferentes palos. Es decir: el A de corazones = el A de diamantes.\n",
    "    Antes de iniciar el juego, el jugador selecciona el importe a apostar.\n",
    "    # - Se hace la repartición de las cartas: Una carta para el jugador y una carta para el dealer.\n",
    "    # - Si la carta del jugador es MAYOR a la del dealer, el jugador GANA la partida y el jugador gana lo apostado.\n",
    "    # - Si la carta del jugador es MENOR a la del dealer, el jugador PIERDE la partida y el jugador pierde lo apostado.\n",
    "    # - Si la carta del jugador es IGUAL a la del dealer, se tienen 2 opciones:\n",
    "        # Opción 1:\n",
    "            # Termina en empate\n",
    "​\n",
    "        # Opción 2: Se elige entre:\n",
    "            # El jugador elige retirarse y pierde la mitad de lo apostado.\n",
    "            # El jugador elige continuar y apuesta nuevamente lo apostado para obtener una carta de desempate."
   ]
  },
  {
   "cell_type": "markdown",
   "id": "figured-change",
   "metadata": {},
   "source": [
    "#  II. CÓDIGO DEL JUEGO"
   ]
  },
  {
   "cell_type": "markdown",
   "id": "orange-institute",
   "metadata": {},
   "source": [
    "# 2.1 Importamos las librerías que vamos a utilizar:\n"
   ]
  },
  {
   "cell_type": "code",
   "execution_count": 1,
   "id": "necessary-jesus",
   "metadata": {},
   "outputs": [],
   "source": [
    "import random"
   ]
  },
  {
   "cell_type": "markdown",
   "id": "commercial-treat",
   "metadata": {},
   "source": [
    "2.2 Creamos la baraja con la que se va a jugar."
   ]
  },
  {
   "cell_type": "markdown",
   "id": "declared-skiing",
   "metadata": {},
   "source": [
    "Opción 1:"
   ]
  },
  {
   "cell_type": "code",
   "execution_count": 2,
   "id": "nonprofit-harbor",
   "metadata": {},
   "outputs": [
    {
     "name": "stdout",
     "output_type": "stream",
     "text": [
      "['2♥', '3♥', '4♥', '5♥', '6♥', '7♥', '8♥', '9♥', '10♥', 'J♥', 'Q♥', 'K♥', 'A♥', '2♦', '3♦', '4♦', '5♦', '6♦', '7♦', '8♦', '9♦', '10♦', 'J♦', 'Q♦', 'K♦', 'A♦', '2♣', '3♣', '4♣', '5♣', '6♣', '7♣', '8♣', '9♣', '10♣', 'J♣', 'Q♣', 'K♣', 'A♣', '2♠', '3♠', '4♠', '5♠', '6♠', '7♠', '8♠', '9♠', '10♠', 'J♠', 'Q♠', 'K♠', 'A♠']\n"
     ]
    }
   ],
   "source": [
    "baraja_1 = sum(list(map( lambda carta: ['2'+str(carta),'3'+str(carta),'4'+str(carta),'5'+str(carta),'6'+str(carta),'7'+str(carta),'8'+str(carta),'9'+str(carta),'10'+str(carta),'J'+str(carta),'Q'+str(carta),'K'+str(carta),'A'+str(carta)], ['♥','♦','♣','♠'])),[])\n",
    "print(baraja_1)"
   ]
  },
  {
   "cell_type": "markdown",
   "id": "vietnamese-salmon",
   "metadata": {},
   "source": [
    "Con el map creamos una lista de listas de cada uno de los elementos de las cartas de la baraja, del 2 al A, para cada uno de los 4 palos.\n",
    "# Con el sum hacemos que esta lista de listas quede en una lista sola."
   ]
  },
  {
   "cell_type": "code",
   "execution_count": 4,
   "id": "civilian-boulder",
   "metadata": {},
   "outputs": [],
   "source": [
    "valores_baraja = [2,3,4,5,6,7,8,9,10,11,12,13,14,2,3,4,5,6,7,8,9,10,11,12,13,14,2,3,4,5,6,7,8,9,10,11,12,13,14,2,3,4,5,6,7,8,9,10,11,12,13,14]"
   ]
  },
  {
   "cell_type": "code",
   "execution_count": 5,
   "id": "baking-surfing",
   "metadata": {},
   "outputs": [],
   "source": [
    "baraja= dict(zip(baraja_1,valores_baraja))"
   ]
  },
  {
   "cell_type": "code",
   "execution_count": 6,
   "id": "respected-message",
   "metadata": {},
   "outputs": [
    {
     "name": "stdout",
     "output_type": "stream",
     "text": [
      "[('2♥', 2), ('3♥', 3), ('4♥', 4), ('5♥', 5), ('6♥', 6), ('7♥', 7), ('8♥', 8), ('9♥', 9), ('10♥', 10), ('J♥', 11), ('Q♥', 12), ('K♥', 13), ('A♥', 14), ('2♦', 2), ('3♦', 3), ('4♦', 4), ('5♦', 5), ('6♦', 6), ('7♦', 7), ('8♦', 8), ('9♦', 9), ('10♦', 10), ('J♦', 11), ('Q♦', 12), ('K♦', 13), ('A♦', 14), ('2♣', 2), ('3♣', 3), ('4♣', 4), ('5♣', 5), ('6♣', 6), ('7♣', 7), ('8♣', 8), ('9♣', 9), ('10♣', 10), ('J♣', 11), ('Q♣', 12), ('K♣', 13), ('A♣', 14), ('2♠', 2), ('3♠', 3), ('4♠', 4), ('5♠', 5), ('6♠', 6), ('7♠', 7), ('8♠', 8), ('9♠', 9), ('10♠', 10), ('J♠', 11), ('Q♠', 12), ('K♠', 13), ('A♠', 14)]\n"
     ]
    }
   ],
   "source": [
    "baraja_mix = list(baraja.items())\n",
    "print(baraja_mix)"
   ]
  },
  {
   "cell_type": "code",
   "execution_count": null,
   "id": "charming-ordinary",
   "metadata": {},
   "outputs": [],
   "source": []
  },
  {
   "cell_type": "code",
   "execution_count": null,
   "id": "therapeutic-input",
   "metadata": {},
   "outputs": [],
   "source": []
  },
  {
   "cell_type": "markdown",
   "id": "thermal-craft",
   "metadata": {},
   "source": [
    "# Repartiendo cartas a los jugadores"
   ]
  },
  {
   "cell_type": "code",
   "execution_count": 7,
   "id": "urban-minimum",
   "metadata": {},
   "outputs": [],
   "source": [
    "Jugador1 = []\n",
    "Jugador2 = []\n",
    "Jugador3 = []\n",
    "Jugador4 = []\n",
    "\n"
   ]
  },
  {
   "cell_type": "code",
   "execution_count": null,
   "id": "numerical-examination",
   "metadata": {},
   "outputs": [],
   "source": [
    "for i in range(1):\n",
    "    carta1 = baraja.pop(0)\n",
    "    Jugador1.append(carta1)\n",
    "    carta2 = baraja.pop(0)\n",
    "    Jugador2.append(carta2)\n",
    "    carta3 = baraja.pop(0)\n",
    "    Jugador3.append(carta3)\n",
    "    carta4 = baraja.pop(0)\n",
    "    Jugador4.append(carta4)\n",
    "    \n",
    "    "
   ]
  }
 ],
 "metadata": {
  "kernelspec": {
   "display_name": "Python 3",
   "language": "python",
   "name": "python3"
  },
  "language_info": {
   "codemirror_mode": {
    "name": "ipython",
    "version": 3
   },
   "file_extension": ".py",
   "mimetype": "text/x-python",
   "name": "python",
   "nbconvert_exporter": "python",
   "pygments_lexer": "ipython3",
   "version": "3.9.2"
  }
 },
 "nbformat": 4,
 "nbformat_minor": 5
}
